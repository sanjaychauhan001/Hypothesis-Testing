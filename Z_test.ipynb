{
 "cells": [
  {
   "cell_type": "markdown",
   "metadata": {},
   "source": [
    "## Hypothesis\n",
    "\n",
    "A statistical hypothesis test is a method of statistical inference used to decide whethere the data at hand sufficiently support a perticular hypothesis. Hypothesis testing allows us to make probabilistic statements about population.\n",
    "\n",
    "### Steps involved in hypothesis testing\n",
    "1. formulate a Null and Alternative hypothesis\n",
    "2. select a significance level\n",
    "3. check assumption\n",
    "4. Decide which test is appropriate(Z-test, T-test, Chi-square, ANOVA)\n",
    "5. state the relevant test statistic\n",
    "6. conduct the test\n",
    "7. reject or do not reject the null hypothesis\n",
    "8. interpret the result"
   ]
  },
  {
   "cell_type": "markdown",
   "metadata": {},
   "source": [
    "## Z-TEST\n",
    "A z-test is a statistical hypothesis test that is used to determine whether the mean of a sample is significantly different from a known population mean when the sample size is sufficiently large\n"
   ]
  },
  {
   "attachments": {
    "image.png": {
     "image/png": "[encoded data removed]"
    }
   },
   "cell_type": "markdown",
   "metadata": {},
   "source": [
    "\n",
    "## Assumptions for a Z-Test:\n",
    "1. Random Sampling: The data should be collected through a random sampling process to ensure that it is representative of the population.\n",
    "\n",
    "2. Normality: The population from which the sample is drawn should be approximately normally distributed. If the sample size is sufficiently large (typically n >= 30), this assumption can be relaxed.\n",
    "\n",
    "3. Known Population Standard Deviation: You should know the population standard deviation (σ). If you don't know σ and have a small sample size, you should use a t-test instead.\n",
    "\n",
    "### How to perform Z-TEST\n",
    "#### 1. Formulate Hypothesis:\n",
    "\n",
    "Null Hypothesis (H0): This is the hypothesis of no effect or no difference.\n",
    "\n",
    "Alternative Hypothesis (Ha or H1): This is the hypothesis that you want to test, which proposes a specific effect or difference.\n",
    "\n",
    "#### 2. Select Significance Level (α):\n",
    "\n",
    "Choose a significance level (α), typically set at 0.05 (5%). This represents the probability of making a Type I error (rejecting the null hypothesis when it's true)\n",
    "\n",
    "#### 3. Calculate the Test Statistic (Z-Score):\n",
    "             \n",
    "![image.png](attachment:image.png)\n",
    "\n",
    "\n",
    "\n",
    "\n",
    "Sample Mean (x̄): The mean of your sample.\n",
    "\n",
    "Population Mean (μ): The value specified in the null hypothesis (often a known population mean).\n",
    "\n",
    "Population Standard Deviation (σ): Known population standard deviation.\n",
    "\n",
    "Sample Size (n): The size of your sample.\n",
    "\n",
    "#### 4. Determine the Critical Value(s):\n",
    "\n",
    "For a two-tailed test at a 5% significance level, the critical z-value is approximately ±1.96.\n",
    "\n",
    "For a one-tailed test (either left-tailed or right-tailed) at a 5% significance level, the critical z-value is approximately -1.645 (left-tailed) or +1.645 (right-tailed).\n",
    "\n",
    "#### 5. Compare the Test Statistic and Critical Value(s):\n",
    "\n",
    "For a two-tailed test, compare the absolute value of your calculated z-score to the critical values. If |z| > critical value(s), reject the null hypothesis. Otherwise, fail to reject it.\n",
    "\n",
    "For a one-tailed test, compare your calculated z-score to the critical value for the specified tail. If z < critical value (left-tailed) or z > critical value (right-tailed), reject the null hypothesis. Otherwise, fail to reject it."
   ]
  },
  {
   "cell_type": "markdown",
   "metadata": {},
   "source": [
    "### let's perform a z-test using a hypothetical example:\n",
    "\n",
    "suppose a company is evaluating the impact of a new training program on the productivity of its employees. The company has data on the average productivity of its empolyees before implementing the training program. The average productivity was 50 units per day with a known population satandard deviation of 5 units. After implementing the training program the company measures the productivity of a random sample of 30 employees. the sample has an average productivity of 53 units per day. The company wants to know if the new training program has significantly increased productivity.\n",
    "\n",
    "#### solution\n",
    "here mu = 50, x_bar = 53, sigma = 5,  n = 30\n",
    "let alpha = 0.05\n",
    "\n",
    "NULL HYPOTHESIS: Average productivity is equal to 50 (mu = 50)\n",
    "\n",
    "ALTERNATIVE HYPOTHESIS : Average productivity is grater than 50 (mu > 50)\n",
    "\n",
    "Z(calculated) = (53 - 50)/(5/root(30))\n",
    "              = (3 * root(30))/5\n",
    "              =  3.28\n",
    "\n",
    "\n",
    "Z(tabulated) = 1.645\n",
    "\n",
    "here Z(calculated) > Z(tabulated)\n",
    "we reject the null hypothesis\n",
    "\n",
    "which means training program has significantly increased the productivity "
   ]
  },
  {
   "cell_type": "markdown",
   "metadata": {},
   "source": [
    "### Example 2\n",
    "\n",
    "Suppose a snack food company claims that their lays wafer packets contain an average weight of 50 gram per packet. to verify this claim, a consumer watchdog organization decides to test a random sample of Lays wafer packets. the organization wants to determine whether the actual average weight differs significantly from the claimed 50 grams. the organization collects a random sample of 40 lays packets and measures their weights. They find that the sample has an average weight of 49 grams, with a known population standard deviation of 4 grams.\n",
    "\n",
    "here mu = 50, x_bar = 49, sigma = 4, n = 40, alpha = 0.05\n",
    "\n",
    "solution:\n",
    "NULL HYPOTHESIS: Average weight is equal to 50 gram (mu = 50)\n",
    "\n",
    "ALTERNATIVE HYPOTHESIS : Average weight not equal to 50 grams (mu != 50)\n",
    "\n",
    "Z(calculated) = (49 - 50)/(4/root(40))\n",
    "              =  -root(40)/4\n",
    "              = -1.58\n",
    "\n",
    "Z(tabulated) = +- 1.96\n",
    "\n",
    "Since my calculated z-score (-1.58) is not more extreme than -1.96 (in the lower tail) or 1.96 (in the upper tail), we do not reject the null hypothesis.\n",
    "\n",
    "which means average weight is equal to 50 grams"
   ]
  },
  {
   "cell_type": "code",
   "execution_count": 17,
   "metadata": {},
   "outputs": [
    {
     "name": "stdout",
     "output_type": "stream",
     "text": [
      "Fail to reject the null hypothesis: The sample mean is not significantly different from the population mean.\n"
     ]
    }
   ],
   "source": [
    "import numpy as np\n",
    "from scipy import stats\n",
    "# Suppose we have a sample of 50 data points from a population with a known mean (μ = 100) and standard deviation (σ = 15).\n",
    "# We want to test if our sample mean is significantly different from the population mean.\n",
    "population_mean = 100\n",
    "population_std = 15\n",
    "\n",
    "# Example data\n",
    "sample_data = np.array([110, 95, 105, 100, 98, 102, 97, 110, 101, 99, 105, 107, 100, 96, 104, 103, 98, 110, 111, 107,\n",
    "                        108, 95, 94, 96, 99, 102, 103, 108, 110, 100, 105, 98, 97, 101, 102, 106, 109, 111, 107, 95,\n",
    "                        92, 100, 99, 97, 95, 100, 101, 105, 107, 106])\n",
    "sample_mean = np.mean(sample_data)\n",
    "sample_size = len(sample_data)\n",
    "# calculate standard error\n",
    "standard_error = population_std / np.sqrt(sample_size)\n",
    "# calculate z-score\n",
    "z_score = (sample_mean - population_mean) / standard_error\n",
    "# calcuate p-value, 2 for 2 tailed test\n",
    "p_value = 2 * stats.norm.sf(np.abs(z_score))\n",
    "# Significance level\n",
    "alpha = 0.05  \n",
    "if p_value < alpha:\n",
    "    print(\"Reject the null hypothesis: The sample mean is significantly different from the population mean.\")\n",
    "else:\n",
    "    print(\"Fail to reject the null hypothesis: The sample mean is not significantly different from the population mean.\")"
   ]
  }
 ],
 "metadata": {
  "kernelspec": {
   "display_name": "Python 3",
   "language": "python",
   "name": "python3"
  },
  "language_info": {
   "codemirror_mode": {
    "name": "ipython",
    "version": 3
   },
   "file_extension": ".py",
   "mimetype": "text/x-python",
   "name": "python",
   "nbconvert_exporter": "python",
   "pygments_lexer": "ipython3",
   "version": "3.12.3"
  },
  "orig_nbformat": 4
 },
 "nbformat": 4,
 "nbformat_minor": 2
}
