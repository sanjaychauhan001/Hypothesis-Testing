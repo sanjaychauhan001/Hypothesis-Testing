{
 "cells": [
  {
   "cell_type": "markdown",
   "metadata": {},
   "source": [
    "# **T-Test**\n",
    "\n",
    "A t-test is a statistical test used to determine if there is a significant difference between the means of two groups. It's particularly useful when dealing with small sample sizes and when the population standard deviation is unknown."
   ]
  },
  {
   "attachments": {
    "image.png": {
     "image/png": "[encoded data removed]"
    }
   },
   "cell_type": "markdown",
   "metadata": {},
   "source": [
    "## **Types of t-tests**\n",
    "\n",
    "### *One-Sample t-test*\n",
    "\n",
    "Purpose: To determine if the mean of a single group is different from a known value (population mean).\n",
    "\n",
    "Example: Testing if the average height of a sample of people is different from a known average height of the population.\n",
    "\n",
    "### *Assumptions One-Sample t-test:*\n",
    "1. The data is normally distributed\n",
    "2. The sample is randomly selected from the population.\n",
    "3. The obeservations in the sample must be independent, which means that the value of one obervetion should not influence the value of another observation.\n",
    "4. population standard deviation is not known.\n",
    "\n",
    "#### *Understand with Example*\n",
    "\n",
    "A nutritionist claims that the average daily intake of calories for adults in a certain city is 2200 calories. To test this claim, a sample of 30 adults from the city is selected, and their daily caloric intake is recorded. The sample has an average daily intake of 2150 calories with a standard deviation of 100 calories.\n",
    "\n",
    "##### *State the Hypotheses*\n",
    "\n",
    "Null Hypothesis (H₀): The mean daily intake of calories for adults in the city is 2200 calories. i.e H0:μ=2200\n",
    "\n",
    "Alternative Hypothesis (H₁): The mean daily intake of calories for adults in the city is not 2200 calories. i.e H1 :μ!=2200\n",
    "\n",
    "##### *Calculate the Test Statistic:*\n",
    "\n",
    "![image.png](attachment:image.png)\n",
    "\n",
    "where x̄ is sample mean.\n",
    "\n",
    "μ is population mean under the null hypothesis\n",
    "\n",
    "s is sample standard deviation\n",
    "\n",
    "n is sample size​\n",
    "\n",
    "that is t = (2150-2200)/(100/root(30)) = -2.73\n",
    "\n",
    "##### *Degrees of Freedom:*\n",
    "Degrees of Freedom\n",
    "\n",
    "df = n-1 = 30-1 = 29\n",
    "\n",
    "##### *Find the Critical t-value:*\n",
    "\n",
    "For a two-tailed test at 𝛼=0.05 use a t-table to find the critical t-value with 29 degrees of freedom.\n",
    "\n",
    "https://www.sjsu.edu/faculty/gerstman/StatPrimer/t-table.pdf\n",
    "\n",
    "here critical value is 2.045.\n",
    "\n",
    "##### *Make a Decision:*\n",
    "\n",
    "If the absolute value of the calculated t-statistic is greater than the critical t-value, reject the null hypothesis.\n",
    "\n",
    "since 2.73 > 2.045, we reject the null hypothesis."
   ]
  },
  {
   "cell_type": "markdown",
   "metadata": {},
   "source": [
    "##### *P_value approch*"
   ]
  },
  {
   "cell_type": "code",
   "execution_count": 9,
   "metadata": {},
   "outputs": [
    {
     "name": "stdout",
     "output_type": "stream",
     "text": [
      "T-statistic: -2.7386127875258306\n",
      "P-value: 0.01043738949886733\n",
      "Reject the null hypothesis.\n"
     ]
    }
   ],
   "source": [
    "import scipy.stats as stats\n",
    "\n",
    "# Sample data\n",
    "sample_mean = 2150\n",
    "sample_std = 100\n",
    "sample_size = 30\n",
    "population_mean = 2200\n",
    "\n",
    "# Calculate the t-statistic\n",
    "t_statistic = (sample_mean - population_mean) / (sample_std / (sample_size ** 0.5))\n",
    "\n",
    "# Calculate the degrees of freedom\n",
    "df = sample_size - 1\n",
    "\n",
    "# Calculate the p-value\n",
    "p_value = stats.t.sf(abs(t_statistic), df) * 2  # Two-tailed test\n",
    "\n",
    "# Print results\n",
    "print(f\"T-statistic: {t_statistic}\")\n",
    "print(f\"P-value: {p_value}\")\n",
    "\n",
    "# Determine significance\n",
    "alpha = 0.05\n",
    "if p_value < alpha:\n",
    "    print(\"Reject the null hypothesis.\")\n",
    "else:\n",
    "    print(\"Fail to reject the null hypothesis.\")\n"
   ]
  },
  {
   "cell_type": "markdown",
   "metadata": {},
   "source": [
    "\n",
    "### Independent Samples t-test (Two-Sample t-test)\n",
    "\n",
    "Purpose: To compare the means of two independent groups.\n",
    "\n",
    "Example: Comparing the average test scores of students from two different classes.\n",
    "\n",
    "### Assumptions of Independent Samples t-test:\n",
    "1. The data is normally distributed.\n",
    "2. The variances of the two groups are equal\n",
    "3. The samples are independent of each other.\n",
    "\n",
    "### Paired Samples t-test (Dependent t-test)\n",
    "\n",
    "Purpose: To compare the means of two related groups.\n",
    "\n",
    "Example: Comparing the average test scores of students before and after a training program.\n",
    "\n",
    "### Assumptions of Paired Samples t-test\n",
    "1. The differences between the paired observations are normally distributed.\n",
    "2. The pairs are dependent or matched in some meaningful way."
   ]
  },
  {
   "attachments": {
    "image.png": {
     "image/png": "[encoded data removed]"
    }
   },
   "cell_type": "markdown",
   "metadata": {},
   "source": [
    "## **How to Perform a t-test**\n",
    "\n",
    "### State the Hypotheses:\n",
    "\n",
    "Null Hypothesis (H₀): Assumes no difference in means \n",
    "\n",
    "Alternative Hypothesis (H₁): Assumes a difference in means \n",
    "\n",
    "### Calculate the Test Statistic:\n",
    "\n",
    "The t-test formula for an independent samples t-test is\n",
    "\n",
    "![image.png](attachment:image.png)\n",
    "\n",
    "where, x̄1 and x̄2 are the sample means\n",
    "\n",
    "s1^2 and s2^2 are the sample variances\n",
    "\n",
    "n1 and n2 are sample sizes\n",
    "\n",
    "### Determine the Degrees of Freedom (df):\n",
    "\n",
    "For an independent samples t-test\n",
    " \n",
    "df = n1+n2-2\n",
    "\n",
    "### Find the Critical t-value:\n",
    "\n",
    "Use a t-distribution table to find the critical value based on the chosen significance level (e.g.α=0.05) and the degrees of freedom.\n",
    "\n",
    "### Compare the Test Statistic to the Critical t-value:\n",
    "\n",
    "If the calculated t-value is greater than the critical t-value (for a two-tailed test, consider the absolute value), reject the null hypothesis."
   ]
  },
  {
   "cell_type": "code",
   "execution_count": null,
   "metadata": {},
   "outputs": [],
   "source": []
  }
 ],
 "metadata": {
  "kernelspec": {
   "display_name": "Python 3",
   "language": "python",
   "name": "python3"
  },
  "language_info": {
   "codemirror_mode": {
    "name": "ipython",
    "version": 3
   },
   "file_extension": ".py",
   "mimetype": "text/x-python",
   "name": "python",
   "nbconvert_exporter": "python",
   "pygments_lexer": "ipython3",
   "version": "3.12.3"
  }
 },
 "nbformat": 4,
 "nbformat_minor": 2
}
