{
 "cells": [
  {
   "cell_type": "markdown",
   "metadata": {},
   "source": [
    "# **T-Test**\n",
    "\n",
    "A t-test is a statistical test used to determine if there is a significant difference between the means of two groups. It's particularly useful when dealing with small sample sizes and when the population standard deviation is unknown."
   ]
  },
  {
   "attachments": {
    "image.png": {
     "image/png": "[encoded data removed]"
    }
   },
   "cell_type": "markdown",
   "metadata": {},
   "source": [
    "## **Types of t-tests**\n",
    "\n",
    "### ***One-Sample t-test***\n",
    "\n",
    "Purpose: To determine if the mean of a single group is different from a known value (population mean).\n",
    "\n",
    "Example: Testing if the average height of a sample of people is different from a known average height of the population.\n",
    "\n",
    "#### ***Assumptions One-Sample t-test:***\n",
    "1. The data is normally distributed\n",
    "2. The sample is randomly selected from the population.\n",
    "3. The obeservations in the sample must be independent, which means that the value of one obervetion should not influence the value of another observation.\n",
    "4. population standard deviation is not known.\n",
    "\n",
    "#### ***Understand with Example***\n",
    "\n",
    "A nutritionist claims that the average daily intake of calories for adults in a certain city is 2200 calories. To test this claim, a sample of 30 adults from the city is selected, and their daily caloric intake is recorded. The sample has an average daily intake of 2150 calories with a standard deviation of 100 calories.\n",
    "\n",
    "#### ***State the Hypotheses***\n",
    "\n",
    "Null Hypothesis (H₀): The mean daily intake of calories for adults in the city is 2200 calories. i.e H0:μ=2200\n",
    "\n",
    "Alternative Hypothesis (H₁): The mean daily intake of calories for adults in the city is not 2200 calories. i.e H1 :μ!=2200\n",
    "\n",
    "#### ***Calculate the Test Statistic:***\n",
    "\n",
    "![image.png](attachment:image.png)\n",
    "\n",
    "where x̄ is sample mean.\n",
    "\n",
    "μ is population mean under the null hypothesis\n",
    "\n",
    "s is sample standard deviation\n",
    "\n",
    "n is sample size​\n",
    "\n",
    "that is t = (2150-2200)/(100/root(30)) = -2.73\n",
    "\n",
    "#### ***Degrees of Freedom:***\n",
    "Degrees of Freedom\n",
    "\n",
    "df = n-1 = 30-1 = 29\n",
    "\n",
    "#### ***Find the Critical t-value:***\n",
    "\n",
    "For a two-tailed test at 𝛼=0.05 use a t-table to find the critical t-value with 29 degrees of freedom.\n",
    "\n",
    "https://www.sjsu.edu/faculty/gerstman/StatPrimer/t-table.pdf\n",
    "\n",
    "here critical value is 2.045.\n",
    "\n",
    "#### ***Make a Decision:***\n",
    "\n",
    "If the absolute value of the calculated t-statistic is greater than the critical t-value, reject the null hypothesis.\n",
    "\n",
    "since 2.73 > 2.045, we reject the null hypothesis."
   ]
  },
  {
   "cell_type": "markdown",
   "metadata": {},
   "source": [
    "##### ***P_value approch***"
   ]
  },
  {
   "cell_type": "code",
   "execution_count": 9,
   "metadata": {},
   "outputs": [
    {
     "name": "stdout",
     "output_type": "stream",
     "text": [
      "T-statistic: -2.7386127875258306\n",
      "P-value: 0.01043738949886733\n",
      "Reject the null hypothesis.\n"
     ]
    }
   ],
   "source": [
    "import scipy.stats as stats\n",
    "\n",
    "# Sample data\n",
    "sample_mean = 2150\n",
    "sample_std = 100\n",
    "sample_size = 30\n",
    "population_mean = 2200\n",
    "\n",
    "# Calculate the t-statistic\n",
    "t_statistic = (sample_mean - population_mean) / (sample_std / (sample_size ** 0.5))\n",
    "\n",
    "# Calculate the degrees of freedom\n",
    "df = sample_size - 1\n",
    "\n",
    "# Calculate the p-value\n",
    "p_value = stats.t.sf(abs(t_statistic), df) * 2  # Two-tailed test\n",
    "\n",
    "# Print results\n",
    "print(f\"T-statistic: {t_statistic}\")\n",
    "print(f\"P-value: {p_value}\")\n",
    "\n",
    "# Determine significance\n",
    "alpha = 0.05\n",
    "if p_value < alpha:\n",
    "    print(\"Reject the null hypothesis.\")\n",
    "else:\n",
    "    print(\"Fail to reject the null hypothesis.\")\n"
   ]
  },
  {
   "attachments": {
    "image.png": {
     "image/png": "[encoded data removed]"
    }
   },
   "cell_type": "markdown",
   "metadata": {},
   "source": [
    "### ***Independent Samples t-test (Two-Sample t-test)***\n",
    "\n",
    "Purpose: To compare the means of two independent groups.\n",
    "\n",
    "Example: Comparing the average test scores of students from two different classes.\n",
    "\n",
    "#### ***Assumptions of Independent Samples t-test:***\n",
    "1. The data is normally distributed.\n",
    "2. The variances of the two groups are equal\n",
    "3. The samples are independent of each other.\n",
    "\n",
    "#### ***How to Perform***\n",
    "\n",
    "#### ***State the Hypotheses:***\n",
    "\n",
    "Null Hypothesis (H₀): Assumes no difference in means \n",
    "\n",
    "Alternative Hypothesis (H₁): Assumes a difference in means \n",
    "\n",
    "#### ***Calculate the Test Statistic:***\n",
    "\n",
    "The t-test formula for an independent samples t-test is\n",
    "\n",
    "![image.png](attachment:image.png)\n",
    "\n",
    "where, x̄1 and x̄2 are the sample means\n",
    "\n",
    "s1^2 and s2^2 are the sample variances\n",
    "\n",
    "n1 and n2 are sample sizes\n",
    "\n",
    "#### ***Determine the Degrees of Freedom (df):***\n",
    "\n",
    "For an independent samples t-test\n",
    " \n",
    "df = n1+n2-2\n",
    "\n",
    "#### ***Find the Critical t-value:***\n",
    "\n",
    "Use a t-distribution table to find the critical value based on the chosen significance level (e.g.α=0.05) and the degrees of freedom.\n",
    "\n",
    "#### ***Compare the Test Statistic to the Critical t-value:***\n",
    "\n",
    "If the calculated t-value is greater than the critical t-value (for a two-tailed test, consider the absolute value), reject the null hypothesis."
   ]
  },
  {
   "cell_type": "markdown",
   "metadata": {},
   "source": [
    "#### ***Understand with Example***\n",
    "\n",
    "You have two groups of participants who have followed two different diets for a month. You want to test if there is a significant difference in the weight loss between the two diet groups using an independent samples t-test with a significance level of 0.05.\n",
    "\n",
    "weight_loss_group_A =  [-3.2, -4.1, -3.5, -5.0, -4.7, -3.8, -3.9, -4.3, -5.1, -4.0, -3.6, -4.8, -4.2, -5.3, -4.1, -4.5, -3.7, -5.0, -4.9, -4.4, -3.3, -4.6, -4.1, -3.8, -4.7, -3.5, -4.0, -5.2, -4.8, -3.9]\n",
    "\n",
    "weight_loss_group_B =  [-2.8, -3.1, -2.5, -3.2, -2.9, -2.4, -3.0, -2.7, -3.4, -2.6, -3.1, -2.8, -3.3, -3.0, -2.5, -2.9, -2.7, -3.2, -2.8, -3.0, -2.4, -3.3, -2.5, -2.9, -3.1, -2.7, -2.8, -3.4, -3.1, -2.6]\n",
    "\n",
    "#### ***State the Hypotheses:***\n",
    "\n",
    "Null Hypothesis: μA = μB(The means of the two groups are equal)\n",
    "\n",
    "Alternative Hypothesis: μA != μB(The means of the two groups are not equal)\n"
   ]
  },
  {
   "cell_type": "code",
   "execution_count": 1,
   "metadata": {},
   "outputs": [
    {
     "name": "stdout",
     "output_type": "stream",
     "text": [
      "T-statistic: -11.39711363490571\n",
      "P-value: 1.9555275335598556e-16\n",
      "Reject the null hypothesis: There is sufficient evidence to suggest a significant difference between the weight loss of the two diet groups.\n"
     ]
    }
   ],
   "source": [
    "import scipy.stats as stats\n",
    "\n",
    "# Sample data\n",
    "group_A = [-3.2, -4.1, -3.5, -5.0, -4.7, -3.8, -3.9, -4.3, -5.1, -4.0, -3.6, -4.8, -4.2, -5.3, -4.1, -4.5, -3.7, -5.0, -4.9, -4.4, -3.3, -4.6, -4.1, -3.8, -4.7, -3.5, -4.0, -5.2, -4.8, -3.9]\n",
    "group_B = [-2.8, -3.1, -2.5, -3.2, -2.9, -2.4, -3.0, -2.7, -3.4, -2.6, -3.1, -2.8, -3.3, -3.0, -2.5, -2.9, -2.7, -3.2, -2.8, -3.0, -2.4, -3.3, -2.5, -2.9, -3.1, -2.7, -2.8, -3.4, -3.1, -2.6]\n",
    "\n",
    "# Perform the independent samples t-test\n",
    "t_statistic, p_value = stats.ttest_ind(group_A, group_B)\n",
    "\n",
    "# Print results\n",
    "print(f\"T-statistic: {t_statistic}\")\n",
    "print(f\"P-value: {p_value}\")\n",
    "\n",
    "# Determine significance\n",
    "alpha = 0.05\n",
    "if p_value < alpha:\n",
    "    print(\"Reject the null hypothesis: There is sufficient evidence to suggest a significant difference between the weight loss of the two diet groups.\")\n",
    "else:\n",
    "    print(\"Fail to reject the null hypothesis: There is not enough evidence to suggest a significant difference between the weight loss of the two diet groups.\")\n"
   ]
  },
  {
   "attachments": {
    "image-2.png": {
     "image/png": "[encoded data removed]"
    },
    "image-3.png": {
     "image/png": "[encoded data removed]"
    },
    "image.png": {
     "image/png": "[encoded data removed]"
    }
   },
   "cell_type": "markdown",
   "metadata": {},
   "source": [
    "### ***Paired Samples t-test (Dependent t-test)***\n",
    "\n",
    "Purpose: To compare the means of two related groups.\n",
    "\n",
    "Example: Comparing the average test scores of students before and after a training program.\n",
    "\n",
    "#### ***Assumptions of Paired Samples t-test***\n",
    "1. The differences between the paired observations are normally distributed.\n",
    "2. The pairs are dependent or matched in some meaningful way.\n",
    "\n",
    "#### ***Calculate the Differences:***\n",
    "\n",
    "di = afteri ​− beforei, where 𝑑𝑖 is the difference for the 𝑖-th pair.\n",
    "​\n",
    "#### ***Calculate the Mean of the Differences:***\n",
    "\n",
    "![image.png](attachment:image.png)\n",
    "\n",
    "#### ***Calculate the Standard Deviation of the Differences:***\n",
    "\n",
    "![image-2.png](attachment:image-2.png)\n",
    "\n",
    "#### ***Calculate the t-statistic:***\n",
    "\n",
    "![image-3.png](attachment:image-3.png)\n",
    "\n",
    "Compare the t-statistic with the critical t-value from the t-distribution table for n−1 degrees of freedom and the desired significance level 𝛼\n"
   ]
  },
  {
   "cell_type": "markdown",
   "metadata": {},
   "source": [
    "#### ***Understand with Example***\n",
    "\n",
    "Suppose we want to evaluate the effectiveness of a new training program on employees' productivity. We measure the productivity of 30 employees before and after the training program. Here are the productivity scores (on a scale of 0-100) for each employee before and after the training.\n",
    "\n",
    "Before Training: [78, 82, 85, 79, 88, 77, 81, 85, 90, 79, 83, 82, 84, 88, 78, 77, 80, 85, 89, 84, 81, 83, 80, 84, 86, 87, 82, 83, 89, 85]\n",
    "\n",
    "After Training: [85, 86, 89, 84, 91, 82, 84, 90, 92, 85, 86, 87, 90, 92, 84, 82, 83, 90, 91, 89, 86, 87, 86, 89, 90, 91, 85, 87, 92, 88]\n",
    "\n",
    "#### ***State the Hypotheses:***\n",
    "\n",
    "Null Hypothesis (H0): The mean difference in productivity before and after the training is zero. (𝜇𝐷=0)\n",
    "\n",
    "Alternative Hypothesis (𝐻1): The mean difference in productivity before and after the training is not zero. (𝜇𝐷!=0)\n"
   ]
  },
  {
   "cell_type": "code",
   "execution_count": 2,
   "metadata": {},
   "outputs": [
    {
     "name": "stdout",
     "output_type": "stream",
     "text": [
      "T-statistic: -18.639642837168104\n",
      "P-value: 1.0977120388163886e-17\n",
      "Reject the null hypothesis: There is sufficient evidence to suggest a significant difference in productivity before and after the training.\n"
     ]
    }
   ],
   "source": [
    "import scipy.stats as stats\n",
    "\n",
    "# Sample data\n",
    "before_training = [78, 82, 85, 79, 88, 77, 81, 85, 90, 79, 83, 82, 84, 88, 78, 77, 80, 85, 89, 84, 81, 83, 80, 84, 86, 87, 82, 83, 89, 85]\n",
    "after_training = [85, 86, 89, 84, 91, 82, 84, 90, 92, 85, 86, 87, 90, 92, 84, 82, 83, 90, 91, 89, 86, 87, 86, 89, 90, 91, 85, 87, 92, 88]\n",
    "\n",
    "# Perform the dependent (paired) t-test\n",
    "t_statistic, p_value = stats.ttest_rel(before_training, after_training)\n",
    "\n",
    "# Print results\n",
    "print(f\"T-statistic: {t_statistic}\")\n",
    "print(f\"P-value: {p_value}\")\n",
    "\n",
    "# Determine significance\n",
    "alpha = 0.05\n",
    "if p_value < alpha:\n",
    "    print(\"Reject the null hypothesis: There is sufficient evidence to suggest a significant difference in productivity before and after the training.\")\n",
    "else:\n",
    "    print(\"Fail to reject the null hypothesis: There is not enough evidence to suggest a significant difference in productivity before and after the training.\")\n"
   ]
  }
 ],
 "metadata": {
  "kernelspec": {
   "display_name": "Python 3",
   "language": "python",
   "name": "python3"
  },
  "language_info": {
   "codemirror_mode": {
    "name": "ipython",
    "version": 3
   },
   "file_extension": ".py",
   "mimetype": "text/x-python",
   "name": "python",
   "nbconvert_exporter": "python",
   "pygments_lexer": "ipython3",
   "version": "3.12.3"
  }
 },
 "nbformat": 4,
 "nbformat_minor": 2
}
