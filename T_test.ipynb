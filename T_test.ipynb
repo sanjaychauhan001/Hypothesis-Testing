{
 "cells": [
  {
   "cell_type": "markdown",
   "metadata": {},
   "source": [
    "## T-Test\n",
    "\n",
    "A t-test is a statistical test used to determine if there is a significant difference between the means of two groups. It's particularly useful when dealing with small sample sizes and when the population standard deviation is unknown."
   ]
  },
  {
   "cell_type": "markdown",
   "metadata": {},
   "source": [
    "## Types of t-tests\n",
    "\n",
    "### Independent Samples t-test (Two-Sample t-test)\n",
    "\n",
    "Purpose: To compare the means of two independent groups.\n",
    "\n",
    "Example: Comparing the average test scores of students from two different classes.\n",
    "\n",
    "### Assumptions of Independent Samples t-test:\n",
    "1. The data is normally distributed.\n",
    "2. The variances of the two groups are equal\n",
    "3. The samples are independent of each other.\n",
    "\n",
    "### Paired Samples t-test (Dependent t-test)\n",
    "\n",
    "Purpose: To compare the means of two related groups.\n",
    "\n",
    "Example: Comparing the average test scores of students before and after a training program.\n",
    "\n",
    "### Assumptions of Paired Samples t-test\n",
    "1. The differences between the paired observations are normally distributed.\n",
    "2. The pairs are dependent or matched in some meaningful way."
   ]
  },
  {
   "attachments": {
    "image.png": {
     "image/png": "[encoded data removed]"
    }
   },
   "cell_type": "markdown",
   "metadata": {},
   "source": [
    "## How to Perform a t-test\n",
    "\n",
    "### State the Hypotheses:\n",
    "\n",
    "Null Hypothesis (H₀): Assumes no difference in means \n",
    "\n",
    "Alternative Hypothesis (H₁): Assumes a difference in means \n",
    "\n",
    "### Calculate the Test Statistic:\n",
    "\n",
    "The t-test formula for an independent samples t-test is\n",
    "\n",
    "![image.png](attachment:image.png)\n",
    "\n",
    "where, x̄1 and x̄2 are the sample means\n",
    "\n",
    "s1^2 and s2^2 are the sample variances\n",
    "\n",
    "n1 and n2 are sample sizes\n",
    "\n",
    "### Determine the Degrees of Freedom (df):\n",
    "\n",
    "For an independent samples t-test\n",
    " \n",
    "df = n1+n2-2\n",
    "\n",
    "### Find the Critical t-value:\n",
    "\n",
    "Use a t-distribution table to find the critical value based on the chosen significance level (e.g.α=0.05) and the degrees of freedom.\n",
    "\n",
    "### Compare the Test Statistic to the Critical t-value:\n",
    "\n",
    "If the calculated t-value is greater than the critical t-value (for a two-tailed test, consider the absolute value), reject the null hypothesis."
   ]
  },
  {
   "cell_type": "code",
   "execution_count": null,
   "metadata": {},
   "outputs": [],
   "source": []
  }
 ],
 "metadata": {
  "language_info": {
   "name": "python"
  }
 },
 "nbformat": 4,
 "nbformat_minor": 2
}
